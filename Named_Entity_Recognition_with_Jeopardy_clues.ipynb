{
  "nbformat": 4,
  "nbformat_minor": 0,
  "metadata": {
    "colab": {
      "name": "Named Entity Recognition with Jeopardy clues.ipynb",
      "version": "0.3.2",
      "provenance": [],
      "collapsed_sections": [],
      "toc_visible": true,
      "include_colab_link": true
    },
    "kernelspec": {
      "name": "python3",
      "display_name": "Python 3"
    },
    "accelerator": "GPU"
  },
  "cells": [
    {
      "cell_type": "markdown",
      "metadata": {
        "id": "view-in-github",
        "colab_type": "text"
      },
      "source": [
        "<a href=\"https://colab.research.google.com/github/BillGrieser/Portfolio/blob/master/Named_Entity_Recognition_with_Jeopardy_clues.ipynb\" target=\"_parent\"><img src=\"https://colab.research.google.com/assets/colab-badge.svg\" alt=\"Open In Colab\"/></a>"
      ]
    },
    {
      "metadata": {
        "id": "3h154q81Jtdg",
        "colab_type": "text"
      },
      "cell_type": "markdown",
      "source": [
        "# Named Entity Recognition with Jeopardy! Clues\n",
        "\n",
        "In this project uses Keras with a TensorFlow backend to build a network to perform Named Entity Recognition (NER) on sentences.\n",
        "\n",
        "The trained model is then used to analyze some clues from the Jeopardy! TV program sraped from a fan web site.\n",
        "\n",
        "The predictor function uses an approach where sentences are predicted in both directions, and results of one prediction feeds into the next, until the predictions agree forward and backward.\n",
        "\n",
        "The model features Embedding layers feeding LSTM layers, that then feed a CRF output layer.\n",
        "\n",
        "Bill Grieser\n",
        "\n",
        "---\n",
        "\n",
        "## The Data\n",
        "\n",
        "The data is composed of over 40000 sentences. It is organized so that one row of data is one word in a sentence. It is in order by sentence. Each word is labelled with a tag indicating whether it is part of a named entity and if so, what kind. \n",
        "\n",
        "Words that are not part of named entities are tagged with `O`. Tags for words that are part of a named entiy start with either `B-` if the work begins a nemaed entity, or `I-` if the word continues a named entity. \n",
        "\n",
        "\n",
        "| Word Tag        |  Meaning           |\n",
        "| :------------- |:-------------:|\n",
        "|`B-geo`      |Begin Geographical Entity|\n",
        "|`B-org`      |Begin Organization|\n",
        "|`B-per`      |Begin Person|\n",
        "|`B-gpe`      |Begin Geopolitical Entity|\n",
        "|`B-tim`      |Begin Time|\n",
        "|`B-art`      |Begin Artifact|\n",
        "|`B-eve`      |Begin Event|\n",
        "|`B-nat`      |Begin Natural Phenomena|\n",
        "|`I-geo`      |Continue Geographical Entity|\n",
        "|`I-org`      |Continue Organization|\n",
        "|`I-per`      |Continue Person|\n",
        "|`I-gpe`      |Continue Geopolitical Entity|\n",
        "|`I-tim`      |Continue Time|\n",
        "|`I-art`      |Continue Artifact|\n",
        "|`I-eve`      |Continue Event|\n",
        "|`I-nat`      |Continue Natural Phenomena|\n",
        "|`O`      |Other (not a named entity)|\n",
        "\n",
        "### Success Criteria\n",
        "\n",
        "A set of labeled data is being held out from the training, and this is used to evaluate the trained model.\n",
        "\n",
        "To experiment with the trained model with unseen data, clues from the TV show _Jeopardy!_ were scraped from a fan website using Beautiful Soup and are fed into the model.\n",
        "\n",
        "### Data Sources:\n",
        "\n",
        "https://www.kaggle.com/abhinavwalia95/entity-annotated-corpus/home\n",
        "\n",
        "which was extracted from the Groningen Meaning Bank.\n",
        "\n",
        "For the _Jeopardy!_ clues:  \n",
        "http://j-archive.com/\n",
        "\n",
        "## Setup\n",
        "Get the data and install the CRF implementation."
      ]
    },
    {
      "metadata": {
        "id": "3iOTrbse7Ewa",
        "colab_type": "code",
        "outputId": "1e40aadd-c06e-4cc5-c2b3-e2a3dbba0aa4",
        "colab": {
          "base_uri": "https://localhost:8080/",
          "height": 683
        }
      },
      "cell_type": "code",
      "source": [
        "!git clone https://github.com/BillGrieser/Portfolio.git\n",
        "!pip install git+https://www.github.com/keras-team/keras-contrib.git"
      ],
      "execution_count": 59,
      "outputs": [
        {
          "output_type": "stream",
          "text": [
            "remote: Total 45 (delta 13), reused 17 (delta 3), pack-reused 0\u001b[K\n",
            "Unpacking objects: 100% (45/45), done.\n",
            "Collecting git+https://www.github.com/keras-team/keras-contrib.git\n",
            "  Cloning https://www.github.com/keras-team/keras-contrib.git to /tmp/pip-req-build-oyn2vet7\n",
            "Requirement already satisfied (use --upgrade to upgrade): keras-contrib==2.0.8 from git+https://www.github.com/keras-team/keras-contrib.git in /usr/local/lib/python3.6/dist-packages\n",
            "Requirement already satisfied: keras in /usr/local/lib/python3.6/dist-packages (from keras-contrib==2.0.8) (2.2.4)\n",
            "Requirement already satisfied: keras-preprocessing>=1.0.5 in /usr/local/lib/python3.6/dist-packages (from keras->keras-contrib==2.0.8) (1.0.5)\n",
            "Requirement already satisfied: h5py in /usr/local/lib/python3.6/dist-packages (from keras->keras-contrib==2.0.8) (2.8.0)\n",
            "Requirement already satisfied: pyyaml in /usr/local/lib/python3.6/dist-packages (from keras->keras-contrib==2.0.8) (3.13)\n",
            "Requirement already satisfied: keras-applications>=1.0.6 in /usr/local/lib/python3.6/dist-packages (from keras->keras-contrib==2.0.8) (1.0.6)\n",
            "Requirement already satisfied: numpy>=1.9.1 in /usr/local/lib/python3.6/dist-packages (from keras->keras-contrib==2.0.8) (1.14.6)\n",
            "Requirement already satisfied: scipy>=0.14 in /usr/local/lib/python3.6/dist-packages (from keras->keras-contrib==2.0.8) (1.1.0)\n",
            "Requirement already satisfied: six>=1.9.0 in /usr/local/lib/python3.6/dist-packages (from keras->keras-contrib==2.0.8) (1.11.0)\n",
            "Building wheels for collected packages: keras-contrib\n",
            "  Running setup.py bdist_wheel for keras-contrib ... \u001b[?25l-\b \b\\\b \bdone\n",
            "\u001b[?25h  Stored in directory: /tmp/pip-ephem-wheel-cache-qafi7ifl/wheels/11/27/c8/4ed56de7b55f4f61244e2dc6ef3cdbaff2692527a2ce6502ba\n",
            "Successfully built keras-contrib\n",
            "Cloning into 'Portfolio'...\n",
            "remote: Enumerating objects: 45, done.\u001b[K\n",
            "remote: Counting objects: 100% (45/45), done.\u001b[K\n",
            "remote: Compressing objects: 100% (40/40), done.\u001b[K\n",
            "remote: Total 45 (delta 13), reused 17 (delta 3), pack-reused 0\u001b[K\n",
            "Unpacking objects: 100% (45/45), done.\n",
            "Collecting git+https://www.github.com/keras-team/keras-contrib.git\n",
            "  Cloning https://www.github.com/keras-team/keras-contrib.git to /tmp/pip-req-build-5ma36m2s\n",
            "Requirement already satisfied (use --upgrade to upgrade): keras-contrib==2.0.8 from git+https://www.github.com/keras-team/keras-contrib.git in /usr/local/lib/python3.6/dist-packages\n",
            "Requirement already satisfied: keras in /usr/local/lib/python3.6/dist-packages (from keras-contrib==2.0.8) (2.2.4)\n",
            "Requirement already satisfied: scipy>=0.14 in /usr/local/lib/python3.6/dist-packages (from keras->keras-contrib==2.0.8) (1.1.0)\n",
            "Requirement already satisfied: numpy>=1.9.1 in /usr/local/lib/python3.6/dist-packages (from keras->keras-contrib==2.0.8) (1.14.6)\n",
            "Requirement already satisfied: keras-applications>=1.0.6 in /usr/local/lib/python3.6/dist-packages (from keras->keras-contrib==2.0.8) (1.0.6)\n",
            "Requirement already satisfied: h5py in /usr/local/lib/python3.6/dist-packages (from keras->keras-contrib==2.0.8) (2.8.0)\n",
            "Requirement already satisfied: six>=1.9.0 in /usr/local/lib/python3.6/dist-packages (from keras->keras-contrib==2.0.8) (1.11.0)\n",
            "Requirement already satisfied: pyyaml in /usr/local/lib/python3.6/dist-packages (from keras->keras-contrib==2.0.8) (3.13)\n",
            "Requirement already satisfied: keras-preprocessing>=1.0.5 in /usr/local/lib/python3.6/dist-packages (from keras->keras-contrib==2.0.8) (1.0.5)\n",
            "Building wheels for collected packages: keras-contrib\n",
            "  Running setup.py bdist_wheel for keras-contrib ... \u001b[?25l-\b \b\\\b \bdone\n",
            "\u001b[?25h  Stored in directory: /tmp/pip-ephem-wheel-cache-z0ix1zc7/wheels/11/27/c8/4ed56de7b55f4f61244e2dc6ef3cdbaff2692527a2ce6502ba\n",
            "Successfully built keras-contrib\n"
          ],
          "name": "stdout"
        }
      ]
    },
    {
      "metadata": {
        "id": "hfktthDWdQYG",
        "colab_type": "text"
      },
      "cell_type": "markdown",
      "source": [
        "#### Includes:"
      ]
    },
    {
      "metadata": {
        "id": "LGUwESCNdUfN",
        "colab_type": "code",
        "colab": {}
      },
      "cell_type": "code",
      "source": [
        "import pandas as pd\n",
        "import numpy as np\n",
        "import os\n",
        "import matplotlib.pyplot as plt\n",
        "from IPython.display import Image\n",
        "import tqdm"
      ],
      "execution_count": 0,
      "outputs": []
    },
    {
      "metadata": {
        "id": "moH4F8stJtdo",
        "colab_type": "text"
      },
      "cell_type": "markdown",
      "source": [
        "#### Set Parameters for this run\n",
        "\n",
        "These constants set values used to control the kind of model built. FIT, when True, indicates that a new model should be fitted with the weights stored in the weight file. If FIT is False, the weight file will be read into a predictor model instead of fitting a new model. The values for the number of nodes and the minimum number of occurrences for words to include them in the lexicon were determined by experimenting with different settings and finding something reasonable."
      ]
    },
    {
      "metadata": {
        "id": "E_mBv4vF4Xos",
        "colab_type": "code",
        "outputId": "831c6027-75eb-428d-e86a-9d687aadbcfe",
        "colab": {
          "base_uri": "https://localhost:8080/",
          "height": 51
        }
      },
      "cell_type": "code",
      "source": [
        "#\n",
        "# Set to True to fit a new model; False to read pre-trained weisght from the \n",
        "# WEIGHT_FILE\n",
        "#\n",
        "FIT_MODEL = True\n",
        "WEIGHT_FILE = \"model_weights_300_50_32_min8_e6_b256.h5\"\n",
        "WEIGHT_FILE_init = \"\"  # Starting weights for additional training\n",
        "\n",
        "MIN_OCCURRENCES = 8   # Discard words seen less often than this\n",
        "N_WORD_EMBEDDING_NODES = 300\n",
        "N_TAG_EMBEDDING_NODES = 50\n",
        "N_HIDDEN_NODES = 32\n",
        "\n",
        "EPOCHS = 6\n",
        "INITIAL_EPOCH = 0\n",
        "BATCH_SIZE = 256\n",
        "INPUT_NER_FILE = os.path.join('Portfolio', 'data', 'ner_dataset.csv')\n",
        "print(\"Run parameters set.\")"
      ],
      "execution_count": 61,
      "outputs": [
        {
          "output_type": "stream",
          "text": [
            "Run parameters set.\n",
            "Run parameters set.\n"
          ],
          "name": "stdout"
        }
      ]
    },
    {
      "metadata": {
        "id": "of7HCKwG4h06",
        "colab_type": "text"
      },
      "cell_type": "markdown",
      "source": [
        "## Prepare the data\n",
        "\n",
        "We want to process the data one sentence at a time; however, the data is originally one row per word. Assemble the words into sentences and then split the sentences into a train and test set."
      ]
    },
    {
      "metadata": {
        "id": "aCvXEJuZJtds",
        "colab_type": "code",
        "outputId": "bd58be7e-c275-4209-81d8-4e8282e037b0",
        "colab": {
          "base_uri": "https://localhost:8080/",
          "height": 119
        }
      },
      "cell_type": "code",
      "source": [
        "import sklearn.model_selection \n",
        "\n",
        "data = pd.read_csv(INPUT_NER_FILE, encoding='latin1')\n",
        "data = data.fillna(method=\"ffill\")\n",
        "\n",
        "# Find all the unique sentence IDs in the input data using numpy.unique, which\n",
        "# also counts the number of occurrences of each value.\n",
        "sentence_ids, sl = np.unique(data['Sentence #'], return_counts=True)\n",
        "\n",
        "max_sentence_length = max(sl)\n",
        "print (\"Number of unique sentence IDs:\", len(sentence_ids))\n",
        "print (\"Max sentence length:\", max_sentence_length)\n",
        "del sl\n",
        "\n",
        "# Split the IDs\n",
        "X_train_ids, X_test_ids = sklearn.model_selection.train_test_split(\n",
        "    sentence_ids, test_size=0.1, random_state=3)\n",
        "\n",
        "# Split the original NER data by sentence ID\n",
        "X_train = data[data['Sentence #'].isin(X_train_ids[:])]\n",
        "X_test = data[data['Sentence #'].isin(X_test_ids[800:1000])] # Can limit the size of test data here\n",
        "print(\"Number of words in the test set:\", len(X_test))"
      ],
      "execution_count": 62,
      "outputs": [
        {
          "output_type": "stream",
          "text": [
            "Number of unique sentence IDs: 47959\n",
            "Max sentence length: 104\n",
            "Number of words in the test set: 4423\n",
            "Number of unique sentence IDs: 47959\n",
            "Max sentence length: 104\n",
            "Number of words in the test set: 4423\n"
          ],
          "name": "stdout"
        }
      ]
    },
    {
      "metadata": {
        "id": "-7htAWKxJtdw",
        "colab_type": "text"
      },
      "cell_type": "markdown",
      "source": [
        "#### Index the words and tags; filter out infrequent words\n",
        "Turn every unique word and tag into a number for the model."
      ]
    },
    {
      "metadata": {
        "id": "_spDDf1NJtdx",
        "colab_type": "code",
        "outputId": "7d273fc9-5f16-4515-ecfd-bbac1b5639be",
        "colab": {
          "base_uri": "https://localhost:8080/",
          "height": 85
        }
      },
      "cell_type": "code",
      "source": [
        "# Build a lexicon from the training data, including the count of each word\n",
        "words, wc = np.unique(X_train['Word'], return_counts=True)\n",
        "\n",
        "# Turn the word list and counts into a dict\n",
        "words = {x[0]: x[1] for x in zip(words, wc)}\n",
        "del wc\n",
        "\n",
        "print('Filtering out words with less than {} occurrences out of {} unique words in the training data.'.format(MIN_OCCURRENCES, len(words)))\n",
        "\n",
        "# Sort the words by count, highest to lowest; filter out infrequent words\n",
        "lex_words = sorted([w for w in words if words[w] >= MIN_OCCURRENCES], key=lambda x: words[x], reverse=True)\n",
        "\n",
        "# Make a number for each word, starting at 2 (1 is unknown and 0 is pad)\n",
        "word2index = {x[1]: x[0]+2 for x in enumerate(lex_words)}\n",
        "index2word = {x[1]: x[0] for x in word2index.items()}\n",
        "index2word[0] = ''\n",
        "index2word[1] = '<UNK>'\n",
        "\n",
        "# Do the same for tags\n",
        "tags = np.unique(X_train['Tag'])\n",
        "tag2index = {x[1]: x[0]+2 for x in enumerate(tags)}\n",
        "index2tag = {x[1]: x[0] for x in tag2index.items()}\n",
        "index2tag[0] = ''\n",
        "index2tag[1] = '<UNK>'\n",
        "\n",
        "print(\"Using {} words and {} tags, including <UNK> and pad.\".format(len(index2word), len(index2tag)))"
      ],
      "execution_count": 63,
      "outputs": [
        {
          "output_type": "stream",
          "text": [
            "Filtering out words with less than 8 occurrences out of 33619 unique words in the training data.\n",
            "Using 7725 words and 19 tags, including <UNK> and pad.\n",
            "Filtering out words with less than 8 occurrences out of 33619 unique words in the training data.\n",
            "Using 7725 words and 19 tags, including <UNK> and pad.\n"
          ],
          "name": "stdout"
        }
      ]
    },
    {
      "metadata": {
        "id": "CwEq9MHdotKl",
        "colab_type": "text"
      },
      "cell_type": "markdown",
      "source": [
        ""
      ]
    },
    {
      "metadata": {
        "id": "bwlgXaSWJtd0",
        "colab_type": "text"
      },
      "cell_type": "markdown",
      "source": [
        "#### Build test and train datasets, one row per sentence\n",
        "\n",
        "Convert the train and test datasets in the one-row-per-word format into one-row-per-sentence dataframes. The resulting dataframe will use the sentence ID as the index, and will contain four columns:\n",
        "* **Words**: A list with the tokenized words of the sentence.\n",
        "* **Word Indices**: A list of integer indices corresponding to the workds\n",
        "* **Tags**: A list of the named-entity tags corresponding to the words\n",
        "* **Tag Indices**: A list of integer indices corresponding to the tags"
      ]
    },
    {
      "metadata": {
        "id": "hV5DPZ2qJtd2",
        "colab_type": "code",
        "colab": {}
      },
      "cell_type": "code",
      "source": [
        "# Convert the word to an index, or the unknown index id the word is not in the lexicon\n",
        "get_index_for_word = lambda x: word2index[x] if x in word2index else 1\n",
        "\n",
        "# Do the same for a tag\n",
        "get_index_for_tag = lambda x: tag2index[x] if x in tag2index else 1\n",
        "\n",
        "# Create functions used to aggregate input rows into sentence rows, looking up\n",
        "# the index for a word/tag if needed. Pad each list on both ends with the UNKNOWN character.\n",
        "def agg_word_tokens(x):\n",
        "    return [index2word[1]] + list(x) + [index2word[1]]\n",
        "\n",
        "def agg_word_indices(x):\n",
        "    return [1] + [get_index_for_word(w) for w in list(x)] + [1]\n",
        "\n",
        "def agg_tag_tokens(x):\n",
        "    return [index2tag[1]] + list(x) + [index2tag[1]]\n",
        "\n",
        "def agg_tag_indices(x):\n",
        "    return [1] + [get_index_for_tag(t) for t in list(x)] + [1]\n",
        "\n",
        "# \n",
        "# Given a dataframe in the input NER format, make a dataframe where each row is a sentence\n",
        "# using the word and tag indices determined above. Each sentence has a pad at each end\n",
        "def make_sentence_df(data_df):\n",
        "    \n",
        "    group = data_df.groupby('Sentence #')\n",
        "                            \n",
        "    words_df = group['Word'].aggregate([agg_word_tokens, agg_word_indices])\n",
        "    tag_df = group['Tag'].aggregate([agg_tag_tokens, agg_tag_indices])\n",
        "    \n",
        "    sentence_df = words_df.join(tag_df).copy()\n",
        "    sentence_df.columns = ['Words', 'Word Indices', 'Tags', 'Tag Indices']        \n",
        "    \n",
        "    return sentence_df"
      ],
      "execution_count": 0,
      "outputs": []
    },
    {
      "metadata": {
        "id": "XZEAU9JxJtd4",
        "colab_type": "text"
      },
      "cell_type": "markdown",
      "source": [
        "Make test and train dataframes with one row per sentence. Note that there is an unknown word/tag on both the beginning and end of each sentence. "
      ]
    },
    {
      "metadata": {
        "scrolled": true,
        "id": "5Rxs8cpuJtd6",
        "colab_type": "code",
        "outputId": "3c2def19-dd47-4c99-a3cc-67008b94a08a",
        "colab": {
          "base_uri": "https://localhost:8080/",
          "height": 567
        }
      },
      "cell_type": "code",
      "source": [
        "# Convert the train and test splits into sentence-oriented dataframes\n",
        "X_train_sentences = make_sentence_df(X_train)\n",
        "X_test_sentences = make_sentence_df(X_test)    \n",
        "\n",
        "X_train_sentences.head(3)"
      ],
      "execution_count": 65,
      "outputs": [
        {
          "output_type": "execute_result",
          "data": {
            "text/html": [
              "<div>\n",
              "<style scoped>\n",
              "    .dataframe tbody tr th:only-of-type {\n",
              "        vertical-align: middle;\n",
              "    }\n",
              "\n",
              "    .dataframe tbody tr th {\n",
              "        vertical-align: top;\n",
              "    }\n",
              "\n",
              "    .dataframe thead th {\n",
              "        text-align: right;\n",
              "    }\n",
              "</style>\n",
              "<table border=\"1\" class=\"dataframe\">\n",
              "  <thead>\n",
              "    <tr style=\"text-align: right;\">\n",
              "      <th></th>\n",
              "      <th>Words</th>\n",
              "      <th>Word Indices</th>\n",
              "      <th>Tags</th>\n",
              "      <th>Tag Indices</th>\n",
              "    </tr>\n",
              "    <tr>\n",
              "      <th>Sentence #</th>\n",
              "      <th></th>\n",
              "      <th></th>\n",
              "      <th></th>\n",
              "      <th></th>\n",
              "    </tr>\n",
              "  </thead>\n",
              "  <tbody>\n",
              "    <tr>\n",
              "      <th>Sentence: 1</th>\n",
              "      <td>[&lt;UNK&gt;, Thousands, of, demonstrators, have, marched, through, London, to, protest, the, war, in, Ira...</td>\n",
              "      <td>[1, 1173, 5, 1131, 17, 1881, 231, 473, 7, 528, 2, 155, 6, 59, 9, 585, 2, 870, 5, 178, 88, 22, 16, 54...</td>\n",
              "      <td>[&lt;UNK&gt;, O, O, O, O, O, O, B-geo, O, O, O, O, O, B-geo, O, O, O, O, O, B-gpe, O, O, O, O, O, &lt;UNK&gt;]</td>\n",
              "      <td>[1, 18, 18, 18, 18, 18, 18, 4, 18, 18, 18, 18, 18, 4, 18, 18, 18, 18, 18, 5, 18, 18, 18, 18, 18, 1]</td>\n",
              "    </tr>\n",
              "    <tr>\n",
              "      <th>Sentence: 10</th>\n",
              "      <td>[&lt;UNK&gt;, Iranian, officials, say, they, expect, to, get, access, to, sealed, sensitive, parts, of, th...</td>\n",
              "      <td>[1, 321, 43, 25, 56, 1826, 7, 739, 1027, 7, 4666, 3320, 821, 5, 2, 1151, 81, 4, 45, 28, 1713, 2238, ...</td>\n",
              "      <td>[&lt;UNK&gt;, B-gpe, O, O, O, O, O, O, O, O, O, O, O, O, O, O, B-tim, O, O, O, B-org, O, O, O, O, O, &lt;UNK&gt;]</td>\n",
              "      <td>[1, 5, 18, 18, 18, 18, 18, 18, 18, 18, 18, 18, 18, 18, 18, 18, 9, 18, 18, 18, 7, 18, 18, 18, 18, 18, 1]</td>\n",
              "    </tr>\n",
              "    <tr>\n",
              "      <th>Sentence: 100</th>\n",
              "      <td>[&lt;UNK&gt;, Helicopter, gunships, Saturday, pounded, militant, hideouts, in, the, Orakzai, tribal, regio...</td>\n",
              "      <td>[1, 1, 4601, 93, 5069, 279, 5035, 6, 2, 4751, 865, 129, 4, 176, 247, 507, 105, 29, 760, 7, 17, 886, ...</td>\n",
              "      <td>[&lt;UNK&gt;, O, O, B-tim, O, O, O, O, O, B-geo, O, O, O, O, O, B-org, O, O, O, O, O, O, O, O, O, O, O, O,...</td>\n",
              "      <td>[1, 18, 18, 9, 18, 18, 18, 18, 18, 4, 18, 18, 18, 18, 18, 7, 18, 18, 18, 18, 18, 18, 18, 18, 18, 18,...</td>\n",
              "    </tr>\n",
              "  </tbody>\n",
              "</table>\n",
              "</div>"
            ],
            "text/plain": [
              "                                                                                                                 Words  \\\n",
              "Sentence #                                                                                                               \n",
              "Sentence: 1    [<UNK>, Thousands, of, demonstrators, have, marched, through, London, to, protest, the, war, in, Ira...   \n",
              "Sentence: 10   [<UNK>, Iranian, officials, say, they, expect, to, get, access, to, sealed, sensitive, parts, of, th...   \n",
              "Sentence: 100  [<UNK>, Helicopter, gunships, Saturday, pounded, militant, hideouts, in, the, Orakzai, tribal, regio...   \n",
              "\n",
              "                                                                                                          Word Indices  \\\n",
              "Sentence #                                                                                                               \n",
              "Sentence: 1    [1, 1173, 5, 1131, 17, 1881, 231, 473, 7, 528, 2, 155, 6, 59, 9, 585, 2, 870, 5, 178, 88, 22, 16, 54...   \n",
              "Sentence: 10   [1, 321, 43, 25, 56, 1826, 7, 739, 1027, 7, 4666, 3320, 821, 5, 2, 1151, 81, 4, 45, 28, 1713, 2238, ...   \n",
              "Sentence: 100  [1, 1, 4601, 93, 5069, 279, 5035, 6, 2, 4751, 865, 129, 4, 176, 247, 507, 105, 29, 760, 7, 17, 886, ...   \n",
              "\n",
              "                                                                                                                  Tags  \\\n",
              "Sentence #                                                                                                               \n",
              "Sentence: 1         [<UNK>, O, O, O, O, O, O, B-geo, O, O, O, O, O, B-geo, O, O, O, O, O, B-gpe, O, O, O, O, O, <UNK>]   \n",
              "Sentence: 10     [<UNK>, B-gpe, O, O, O, O, O, O, O, O, O, O, O, O, O, O, B-tim, O, O, O, B-org, O, O, O, O, O, <UNK>]   \n",
              "Sentence: 100  [<UNK>, O, O, B-tim, O, O, O, O, O, B-geo, O, O, O, O, O, B-org, O, O, O, O, O, O, O, O, O, O, O, O,...   \n",
              "\n",
              "                                                                                                           Tag Indices  \n",
              "Sentence #                                                                                                              \n",
              "Sentence: 1        [1, 18, 18, 18, 18, 18, 18, 4, 18, 18, 18, 18, 18, 4, 18, 18, 18, 18, 18, 5, 18, 18, 18, 18, 18, 1]  \n",
              "Sentence: 10   [1, 5, 18, 18, 18, 18, 18, 18, 18, 18, 18, 18, 18, 18, 18, 18, 9, 18, 18, 18, 7, 18, 18, 18, 18, 18, 1]  \n",
              "Sentence: 100  [1, 18, 18, 9, 18, 18, 18, 18, 18, 4, 18, 18, 18, 18, 18, 7, 18, 18, 18, 18, 18, 18, 18, 18, 18, 18,...  "
            ]
          },
          "metadata": {
            "tags": []
          },
          "execution_count": 36
        },
        {
          "output_type": "execute_result",
          "data": {
            "text/html": [
              "<div>\n",
              "<style scoped>\n",
              "    .dataframe tbody tr th:only-of-type {\n",
              "        vertical-align: middle;\n",
              "    }\n",
              "\n",
              "    .dataframe tbody tr th {\n",
              "        vertical-align: top;\n",
              "    }\n",
              "\n",
              "    .dataframe thead th {\n",
              "        text-align: right;\n",
              "    }\n",
              "</style>\n",
              "<table border=\"1\" class=\"dataframe\">\n",
              "  <thead>\n",
              "    <tr style=\"text-align: right;\">\n",
              "      <th></th>\n",
              "      <th>Words</th>\n",
              "      <th>Word Indices</th>\n",
              "      <th>Tags</th>\n",
              "      <th>Tag Indices</th>\n",
              "    </tr>\n",
              "    <tr>\n",
              "      <th>Sentence #</th>\n",
              "      <th></th>\n",
              "      <th></th>\n",
              "      <th></th>\n",
              "      <th></th>\n",
              "    </tr>\n",
              "  </thead>\n",
              "  <tbody>\n",
              "    <tr>\n",
              "      <th>Sentence: 1</th>\n",
              "      <td>[&lt;UNK&gt;, Thousands, of, demonstrators, have, marched, through, London, to, protest, the, war, in, Ira...</td>\n",
              "      <td>[1, 1173, 5, 1131, 17, 1881, 231, 473, 7, 528, 2, 155, 6, 59, 9, 585, 2, 870, 5, 178, 88, 22, 16, 54...</td>\n",
              "      <td>[&lt;UNK&gt;, O, O, O, O, O, O, B-geo, O, O, O, O, O, B-geo, O, O, O, O, O, B-gpe, O, O, O, O, O, &lt;UNK&gt;]</td>\n",
              "      <td>[1, 18, 18, 18, 18, 18, 18, 4, 18, 18, 18, 18, 18, 4, 18, 18, 18, 18, 18, 5, 18, 18, 18, 18, 18, 1]</td>\n",
              "    </tr>\n",
              "    <tr>\n",
              "      <th>Sentence: 10</th>\n",
              "      <td>[&lt;UNK&gt;, Iranian, officials, say, they, expect, to, get, access, to, sealed, sensitive, parts, of, th...</td>\n",
              "      <td>[1, 321, 43, 25, 56, 1826, 7, 739, 1027, 7, 4666, 3320, 821, 5, 2, 1151, 81, 4, 45, 28, 1713, 2238, ...</td>\n",
              "      <td>[&lt;UNK&gt;, B-gpe, O, O, O, O, O, O, O, O, O, O, O, O, O, O, B-tim, O, O, O, B-org, O, O, O, O, O, &lt;UNK&gt;]</td>\n",
              "      <td>[1, 5, 18, 18, 18, 18, 18, 18, 18, 18, 18, 18, 18, 18, 18, 18, 9, 18, 18, 18, 7, 18, 18, 18, 18, 18, 1]</td>\n",
              "    </tr>\n",
              "    <tr>\n",
              "      <th>Sentence: 100</th>\n",
              "      <td>[&lt;UNK&gt;, Helicopter, gunships, Saturday, pounded, militant, hideouts, in, the, Orakzai, tribal, regio...</td>\n",
              "      <td>[1, 1, 4601, 93, 5069, 279, 5035, 6, 2, 4751, 865, 129, 4, 176, 247, 507, 105, 29, 760, 7, 17, 886, ...</td>\n",
              "      <td>[&lt;UNK&gt;, O, O, B-tim, O, O, O, O, O, B-geo, O, O, O, O, O, B-org, O, O, O, O, O, O, O, O, O, O, O, O,...</td>\n",
              "      <td>[1, 18, 18, 9, 18, 18, 18, 18, 18, 4, 18, 18, 18, 18, 18, 7, 18, 18, 18, 18, 18, 18, 18, 18, 18, 18,...</td>\n",
              "    </tr>\n",
              "  </tbody>\n",
              "</table>\n",
              "</div>"
            ],
            "text/plain": [
              "                                                                                                                 Words  \\\n",
              "Sentence #                                                                                                               \n",
              "Sentence: 1    [<UNK>, Thousands, of, demonstrators, have, marched, through, London, to, protest, the, war, in, Ira...   \n",
              "Sentence: 10   [<UNK>, Iranian, officials, say, they, expect, to, get, access, to, sealed, sensitive, parts, of, th...   \n",
              "Sentence: 100  [<UNK>, Helicopter, gunships, Saturday, pounded, militant, hideouts, in, the, Orakzai, tribal, regio...   \n",
              "\n",
              "                                                                                                          Word Indices  \\\n",
              "Sentence #                                                                                                               \n",
              "Sentence: 1    [1, 1173, 5, 1131, 17, 1881, 231, 473, 7, 528, 2, 155, 6, 59, 9, 585, 2, 870, 5, 178, 88, 22, 16, 54...   \n",
              "Sentence: 10   [1, 321, 43, 25, 56, 1826, 7, 739, 1027, 7, 4666, 3320, 821, 5, 2, 1151, 81, 4, 45, 28, 1713, 2238, ...   \n",
              "Sentence: 100  [1, 1, 4601, 93, 5069, 279, 5035, 6, 2, 4751, 865, 129, 4, 176, 247, 507, 105, 29, 760, 7, 17, 886, ...   \n",
              "\n",
              "                                                                                                                  Tags  \\\n",
              "Sentence #                                                                                                               \n",
              "Sentence: 1         [<UNK>, O, O, O, O, O, O, B-geo, O, O, O, O, O, B-geo, O, O, O, O, O, B-gpe, O, O, O, O, O, <UNK>]   \n",
              "Sentence: 10     [<UNK>, B-gpe, O, O, O, O, O, O, O, O, O, O, O, O, O, O, B-tim, O, O, O, B-org, O, O, O, O, O, <UNK>]   \n",
              "Sentence: 100  [<UNK>, O, O, B-tim, O, O, O, O, O, B-geo, O, O, O, O, O, B-org, O, O, O, O, O, O, O, O, O, O, O, O,...   \n",
              "\n",
              "                                                                                                           Tag Indices  \n",
              "Sentence #                                                                                                              \n",
              "Sentence: 1        [1, 18, 18, 18, 18, 18, 18, 4, 18, 18, 18, 18, 18, 4, 18, 18, 18, 18, 18, 5, 18, 18, 18, 18, 18, 1]  \n",
              "Sentence: 10   [1, 5, 18, 18, 18, 18, 18, 18, 18, 18, 18, 18, 18, 18, 18, 18, 9, 18, 18, 18, 7, 18, 18, 18, 18, 18, 1]  \n",
              "Sentence: 100  [1, 18, 18, 9, 18, 18, 18, 18, 18, 4, 18, 18, 18, 18, 18, 7, 18, 18, 18, 18, 18, 18, 18, 18, 18, 18,...  "
            ]
          },
          "metadata": {
            "tags": []
          },
          "execution_count": 65
        }
      ]
    },
    {
      "metadata": {
        "id": "Eop0w8u_Jtet",
        "colab_type": "text"
      },
      "cell_type": "markdown",
      "source": [
        "## Define the Model\n",
        "\n",
        "This model uses two LSTM layers in parallel, one running forward and the other backward. It accepts as input sentences converted a list of word indices, and two other inputs: For each word, the index of the tag preceding the word and the index of the tag following the word.   \n",
        "\n",
        "There is a Dropout layer as a countermeasure to overfitting. We are using an implementation of Conditional Random Fields (CRF) from the `keras.contrib` package to help with the sequence prediction task."
      ]
    },
    {
      "metadata": {
        "scrolled": true,
        "id": "LyH5orgpJtet",
        "colab_type": "code",
        "colab": {}
      },
      "cell_type": "code",
      "source": [
        "from keras.models import Model\n",
        "from keras.layers import Input, Concatenate, LSTM, TimeDistributed, Dense, Dropout\n",
        "from keras.layers.embeddings import Embedding\n",
        "from keras_contrib.layers import CRF\n",
        "from keras_contrib.losses import crf_loss\n",
        "from keras_contrib.metrics import crf_accuracy\n",
        "from sklearn.metrics import accuracy_score, f1_score\n",
        "\n",
        "\"\"\"\n",
        "Create a model using the input sizes and options. This will accept as input words, \n",
        "preceeding tags, and folllowing tags and will predict the tags matching the words. It has \n",
        "two separate LSTM layers, one running in each direction.\n",
        "\"\"\"\n",
        "def create_model(seq_input_len, n_word_input_nodes, n_tag_input_nodes, n_word_embedding_nodes,\n",
        "                 n_tag_embedding_nodes, n_hidden_nodes, stateful=False, batch_size=None):\n",
        "    \n",
        "    #Layers 1\n",
        "    word_input = Input(batch_shape=(batch_size, seq_input_len), name=\"Word_Input\")\n",
        "    pre_tag_input = Input(batch_shape=(batch_size, seq_input_len), name=\"PreTag_Input\")\n",
        "    post_tag_input = Input(batch_shape=(batch_size, seq_input_len), name=\"PostTag_Input\")\n",
        "\n",
        "    #Layers 2\n",
        "    word_embeddings_pre = Embedding(name=\"Word_Embedding_Pre\", input_dim=n_word_input_nodes,\n",
        "                                output_dim=n_word_embedding_nodes, \n",
        "                                mask_zero=True)(word_input) #mask_zero will ignore 0 padding\n",
        "    \n",
        "    word_embeddings_post = Embedding(name=\"Word_Embedding_Post\", input_dim=n_word_input_nodes,\n",
        "                                output_dim=n_word_embedding_nodes, \n",
        "                                mask_zero=True)(word_input) #mask_zero will ignore 0 padding\n",
        "    \n",
        "    #Output shape = (batch_size, seq_input_len, n_word_embedding_nodes)\n",
        "    pre_tag_embeddings = Embedding(name=\"Tag_Embedding_Pre\", input_dim=n_tag_input_nodes,\n",
        "                               output_dim=n_tag_embedding_nodes,\n",
        "                               mask_zero=True)(pre_tag_input) \n",
        "    #Output shape = (batch_size, seq_input_len, n_tag_embedding_nodes)\n",
        "    \n",
        "    #Layer 3\n",
        "    post_tag_embeddings = Embedding(name=\"Tag_Embedding_Post\", input_dim=n_tag_input_nodes,\n",
        "                               output_dim=n_tag_embedding_nodes,\n",
        "                               mask_zero=True)(post_tag_input) \n",
        "    \n",
        "    #Output shape = (batch_size, seq_input_len, n_tag_embedding_nodes)\n",
        "    \n",
        "    #Layer 4\n",
        "    pre_merged_embeddings = Concatenate(axis=-1)([word_embeddings_pre, pre_tag_embeddings])\n",
        "    post_merged_embeddings = Concatenate(axis=-1)([word_embeddings_post, post_tag_embeddings])\n",
        "    \n",
        "    #Layer 5\n",
        "    pre_hidden_layer = LSTM(name=\"LSTM_Pre\", units=n_hidden_nodes, return_sequences=True,\n",
        "                        recurrent_dropout=0.1, \n",
        "                        stateful=stateful )(pre_merged_embeddings) \n",
        "\n",
        "    post_hidden_layer = LSTM(name=\"LSTM_Post\", units=n_hidden_nodes, return_sequences=True,\n",
        "                        recurrent_dropout=0.1, \n",
        "                        stateful=stateful, go_backwards=True)(post_merged_embeddings) \n",
        "\n",
        "    #Layer 6\n",
        "    pre_dense_layer = TimeDistributed(Dense(units=n_hidden_nodes, \n",
        "                                         activation='tanh'), name=\"TimeDist_Pre\")(pre_hidden_layer)\n",
        "    post_dense_layer = TimeDistributed(Dense(units=n_hidden_nodes, \n",
        "                                         activation='tanh'), name=\"TimeDist_Post\")(post_hidden_layer)\n",
        "    \n",
        "    # Layer 7\n",
        "    merged_dense_layer = Concatenate(axis=-1)([pre_dense_layer, post_dense_layer])\n",
        "    \n",
        "    # Layer 8\n",
        "    dropout_layer = Dropout(0.5)(merged_dense_layer)\n",
        "    \n",
        "    # Output Layer\n",
        "    crf = CRF(n_tag_input_nodes)\n",
        "    output_layer = crf(dropout_layer)\n",
        "    \n",
        "    #Specify which layers are input and output, compile model with loss and optimization functions\n",
        "    model = Model(inputs=[word_input, pre_tag_input, post_tag_input], outputs=output_layer)\n",
        "    model.compile(loss=crf_loss,\n",
        "                  optimizer='rmsprop', metrics=[crf_accuracy])\n",
        "    \n",
        "    return model"
      ],
      "execution_count": 0,
      "outputs": []
    },
    {
      "metadata": {
        "id": "yAvn6MZ0Jtew",
        "colab_type": "code",
        "colab": {}
      },
      "cell_type": "code",
      "source": [
        "model = create_model(seq_input_len=max_sentence_length, \n",
        "                     n_word_input_nodes=len(index2word), \n",
        "                     n_tag_input_nodes=len(index2tag),\n",
        "                     n_word_embedding_nodes=N_WORD_EMBEDDING_NODES,\n",
        "                     n_tag_embedding_nodes=N_TAG_EMBEDDING_NODES,\n",
        "                     n_hidden_nodes=N_HIDDEN_NODES)"
      ],
      "execution_count": 0,
      "outputs": []
    },
    {
      "metadata": {
        "id": "M3AO761Do6gS",
        "colab_type": "text"
      },
      "cell_type": "markdown",
      "source": [
        "#### Visualize the model"
      ]
    },
    {
      "metadata": {
        "id": "GWuCTQZMOnUi",
        "colab_type": "code",
        "outputId": "e77df194-c018-49fa-bcc6-5c68bb0ccba8",
        "colab": {
          "base_uri": "https://localhost:8080/",
          "height": 1065
        }
      },
      "cell_type": "code",
      "source": [
        "from keras.utils import plot_model\n",
        "from keras.utils.vis_utils import model_to_dot\n",
        "plot_model(model, to_file='model.png')\n",
        "Image('model.png', width=900, embed=True) \n"
      ],
      "execution_count": 68,
      "outputs": [
        {
          "output_type": "execute_result",
          "data": {
            "image/png": "[encoded data removed]",
            "text/plain": [
              "<IPython.core.display.Image object>"
            ]
          },
          "metadata": {
            "tags": [],
            "image/png": {
              "width": 900
            }
          },
          "execution_count": 39
        },
        {
          "output_type": "execute_result",
          "data": {
            "image/png": "[encoded data removed]",
            "text/plain": [
              "<IPython.core.display.Image object>"
            ]
          },
          "metadata": {
            "tags": [],
            "image/png": {
              "width": 900
            }
          },
          "execution_count": 68
        }
      ]
    },
    {
      "metadata": {
        "id": "-LSMQqcveoqU",
        "colab_type": "text"
      },
      "cell_type": "markdown",
      "source": [
        "## Train the Model\n",
        "\n",
        "We will use Keras to train the model with the training sentences. This can take a while, so we also have the option to load weights from a previous training run."
      ]
    },
    {
      "metadata": {
        "id": "OcRIbpdmJtez",
        "colab_type": "code",
        "outputId": "811b8ee0-47f4-4ec0-b3d1-80db81e1d169",
        "colab": {
          "base_uri": "https://localhost:8080/",
          "height": 547
        }
      },
      "cell_type": "code",
      "source": [
        "from keras.utils import to_categorical\n",
        "from keras.preprocessing.sequence import pad_sequences\n",
        "padding= 'post'\n",
        "\n",
        "if FIT_MODEL == True:\n",
        "    \n",
        "    # Fit the model. Three inputs: (All converted to indices in the lexicon/tag list):\n",
        "    #    A list of words in the sentences\n",
        "    #    A list of tags for the preceeding word\n",
        "    #    A list of tags for the succeeeding word\n",
        "    #\n",
        "    if WEIGHT_FILE_init != '':\n",
        "        print(\"Initializing weights before fitting from:\", WEIGHT_FILE_init)\n",
        "        model.load_weights(WEIGHT_FILE_init)\n",
        "    \n",
        "    # All padded to the max sentence length\n",
        "    train_history = model.fit(x=[pad_sequences(X_train_sentences['Word Indices'].apply(lambda w: w[1:-1]),\n",
        "                                padding=padding, maxlen=max_sentence_length), \\\n",
        "                 pad_sequences(X_train_sentences['Tag Indices'].apply(lambda t: t[:-2]), \n",
        "                               padding=padding, maxlen=max_sentence_length), \\\n",
        "                 pad_sequences(X_train_sentences['Tag Indices'].apply(lambda t: t[2:]), \n",
        "                               padding=padding, maxlen=max_sentence_length)], \\\n",
        "              y=to_categorical(pad_sequences(X_train_sentences['Tag Indices'].apply(lambda t: t[1:-1]), \n",
        "                                             padding=padding, maxlen=max_sentence_length), \\\n",
        "                num_classes=len(index2tag)), \\\n",
        "              batch_size=BATCH_SIZE, validation_split=0.05, \n",
        "              epochs=EPOCHS, initial_epoch=INITIAL_EPOCH, verbose=1)\n",
        "    \n",
        "    print(\"Saving weights . . .\")\n",
        "    model.save_weights(WEIGHT_FILE) #Save model\n",
        "    print(\"Done saving weights.\")\n",
        "    \n",
        "else:\n",
        "    print(\"Using pre-trained weights.\")"
      ],
      "execution_count": 69,
      "outputs": [
        {
          "output_type": "stream",
          "text": [
            "Train on 41004 samples, validate on 2159 samples\n",
            "Epoch 1/6\n",
            "41004/41004 [==============================] - 158s 4ms/step - loss: 14.2241 - crf_accuracy: 0.8428 - val_loss: 14.2210 - val_crf_accuracy: 0.9220\n",
            "Epoch 2/6\n",
            "41004/41004 [==============================] - 154s 4ms/step - loss: 13.7236 - crf_accuracy: 0.9469 - val_loss: 14.0489 - val_crf_accuracy: 0.9674\n",
            "Epoch 3/6\n",
            "41004/41004 [==============================] - 156s 4ms/step - loss: 13.6437 - crf_accuracy: 0.9663 - val_loss: 14.0243 - val_crf_accuracy: 0.9718\n",
            "Epoch 4/6\n",
            "41004/41004 [==============================] - 154s 4ms/step - loss: 13.6214 - crf_accuracy: 0.9712 - val_loss: 14.0147 - val_crf_accuracy: 0.9751\n",
            "Epoch 5/6\n",
            "41004/41004 [==============================] - 155s 4ms/step - loss: 13.6101 - crf_accuracy: 0.9741 - val_loss: 14.0084 - val_crf_accuracy: 0.9770\n",
            "Epoch 6/6\n",
            "41004/41004 [==============================] - 154s 4ms/step - loss: 13.6019 - crf_accuracy: 0.9763 - val_loss: 14.0028 - val_crf_accuracy: 0.9790\n",
            "Saving weights . . .\n",
            "Done saving weights.\n",
            "Train on 41004 samples, validate on 2159 samples\n",
            "Epoch 1/6\n",
            "41004/41004 [==============================] - 160s 4ms/step - loss: 14.2595 - crf_accuracy: 0.8322 - val_loss: 14.2287 - val_crf_accuracy: 0.9197\n",
            "Epoch 2/6\n",
            "41004/41004 [==============================] - 156s 4ms/step - loss: 13.7371 - crf_accuracy: 0.9439 - val_loss: 14.0583 - val_crf_accuracy: 0.9634\n",
            "Epoch 3/6\n",
            "41004/41004 [==============================] - 156s 4ms/step - loss: 13.6529 - crf_accuracy: 0.9641 - val_loss: 14.0288 - val_crf_accuracy: 0.9718\n",
            "Epoch 4/6\n",
            "41004/41004 [==============================] - 156s 4ms/step - loss: 13.6275 - crf_accuracy: 0.9696 - val_loss: 14.0159 - val_crf_accuracy: 0.9747\n",
            "Epoch 5/6\n",
            "41004/41004 [==============================] - 156s 4ms/step - loss: 13.6143 - crf_accuracy: 0.9730 - val_loss: 14.0150 - val_crf_accuracy: 0.9749\n",
            "Epoch 6/6\n",
            "41004/41004 [==============================] - 155s 4ms/step - loss: 13.6055 - crf_accuracy: 0.9755 - val_loss: 14.0051 - val_crf_accuracy: 0.9777\n",
            "Saving weights . . .\n",
            "Done saving weights.\n"
          ],
          "name": "stdout"
        }
      ]
    },
    {
      "metadata": {
        "id": "FYNU0xYp8YdU",
        "colab_type": "text"
      },
      "cell_type": "markdown",
      "source": [
        "#### Show loss history during training"
      ]
    },
    {
      "metadata": {
        "id": "My9oaHZu3SfT",
        "colab_type": "code",
        "colab": {
          "base_uri": "https://localhost:8080/",
          "height": 897
        },
        "outputId": "75e61f7d-061c-44c5-b0e6-48630d7d8fda"
      },
      "cell_type": "code",
      "source": [
        "img_file = os.path.join(\"Portfolio\", \"weights\", \"training_loss.png\")\n",
        "if FIT_MODEL == True:\n",
        "    # Plot training & validation loss values\n",
        "    plt.figure(1, figsize=(9,7))\n",
        "    plt.plot([x+1 for x in range(len(train_history.history['loss']))], train_history.history['loss'])\n",
        "    plt.plot([x+1 for x in range(len(train_history.history['val_loss']))], train_history.history['val_loss'])\n",
        "    plt.title('Model loss by epoch')\n",
        "    plt.ylabel('Loss')\n",
        "    plt.xlabel('Epoch')\n",
        "    plt.legend(['Training loss', 'Validation loss'], loc='lower left')\n",
        "    plt.savefig(img_file)\n",
        "    try:\n",
        "      plt.show()\n",
        "    except:\n",
        "      pass\n",
        "    plt.close()\n",
        "else:\n",
        "    display(Image(img_file, embed=True))\n",
        "    \n"
      ],
      "execution_count": 70,
      "outputs": [
        {
          "output_type": "display_data",
          "data": {
            "image/png": "[encoded data removed]",
            "text/plain": [
              "<matplotlib.figure.Figure at 0x7fbb92346f98>"
            ]
          },
          "metadata": {
            "tags": []
          }
        },
        {
          "output_type": "display_data",
          "data": {
            "image/png": "[encoded data removed]",
            "text/plain": [
              "<matplotlib.figure.Figure at 0x7fbb8cbceda0>"
            ]
          },
          "metadata": {
            "tags": []
          }
        }
      ]
    },
    {
      "metadata": {
        "id": "ulPYviZ4Jte3",
        "colab_type": "text"
      },
      "cell_type": "markdown",
      "source": [
        "## Make Predictions\n",
        "\n",
        "### Iterative predictor function"
      ]
    },
    {
      "metadata": {
        "id": "wYuHV0PcJte3",
        "colab_type": "text"
      },
      "cell_type": "markdown",
      "source": [
        "This function is given a list of words converted to their indices in the lexicon. It predicts the tag for each word in the list using model 2. Each prediction uses the predicted next and predicted previous tag as part of the prediction. This function processes the words in both a forward and reverse direction until either both directions predict the same tags or the maximim number of tries is reached, in which case, the forward prediction is returned. In testing, some sentences agreed right away, others took 2 or 3 iterations to match, and the rest did not match after 10 tries, so the max iterations used is 4; if they haven't matched by then the liklihood of matching with more iterations is low."
      ]
    },
    {
      "metadata": {
        "id": "PmzM5FfoJte4",
        "colab_type": "code",
        "outputId": "914631ec-c94c-4035-f758-f0a4445f29d3",
        "colab": {
          "base_uri": "https://localhost:8080/",
          "height": 51
        }
      },
      "cell_type": "code",
      "source": [
        "\"\"\"\n",
        "Given a list of word indices, make a prediction for the tags. Make a prediction processing the indices\n",
        "both forward and back. Keep trying until the forward and reverse predictions match, or until a set number of\n",
        "tries has been made.\n",
        "\"\"\"\n",
        "def predict_from_word_indices(word_indices, model):\n",
        "    \n",
        "    # Initially none are known\n",
        "    reverse_preds = [1] * (2 + len(word_indices))\n",
        "    forward_preds = [1] * (2 + len(word_indices))\n",
        "    \n",
        "    done = False\n",
        "    counter = 0\n",
        "    \n",
        "    # Loop until either the forward and backward predictions agree or a set number of tries is reached\n",
        "    while not done:\n",
        "        \n",
        "        model.reset_states()\n",
        "       \n",
        "        # Lamda to simulate enumerate, but in reverse order\n",
        "        reverse_enumerate = lambda lst: zip(range(len(lst)-1, -1, -1), reversed(lst))\n",
        "        \n",
        "        for idx, cur_word in reverse_enumerate(word_indices):\n",
        "            \n",
        "            # cur_word and prev_tag are just integers, but the model expects an input array\n",
        "            # with the shape (batch_size, seq_input_len), so prepend two dimensions to these values\n",
        "            pred_onehot = model.predict(x=[np.array(cur_word)[None,None],\n",
        "                                          np.array(forward_preds[idx])[None,None], \n",
        "                                          np.array(reverse_preds[idx+2])[None,None]])[0]\n",
        "            pred_tag = np.argmax(pred_onehot, axis=-1)[0]\n",
        "            \n",
        "            # Add the pred tag to its place in the reverse preds; add 1 to idx to account for pad\n",
        "            reverse_preds[idx+1] = pred_tag\n",
        "         \n",
        "        model.reset_states()\n",
        "        \n",
        "        # Use the revsersed predictions to find a value for the following tag\n",
        "        # and predict the tags going forward\n",
        "        for idx, cur_word in enumerate(word_indices):\n",
        "            \n",
        "            pred_onehot = model.predict(x=[np.array(cur_word)[None,None],\n",
        "                                          np.array(forward_preds[idx])[None,None], \n",
        "                                          np.array(reverse_preds[idx+2])[None,None]])[0]\n",
        "            pred_tag = np.argmax(pred_onehot, axis=-1)[0]\n",
        "            \n",
        "            # Add the pred tag to its place in the forward preds; add 1 to idx to account for pad\n",
        "            forward_preds[idx+1] = pred_tag\n",
        "            \n",
        "        counter += 1\n",
        "        if (reverse_preds == forward_preds) or (counter >= 4):\n",
        "            done = True\n",
        "            \n",
        "    # Turn into human readable\n",
        "    tags = [index2tag[x] for x in forward_preds[1:-1]]\n",
        "    \n",
        "    #print(\"Reverse:\", tagsr)\n",
        "    #print(\"Forward:\", tags)\n",
        "    #print(\"Counter:\", counter)\n",
        "    \n",
        "    return tags\n",
        "  \n",
        "print(\"predict_from_word_indices() defined.\")"
      ],
      "execution_count": 71,
      "outputs": [
        {
          "output_type": "stream",
          "text": [
            "predict_from_word_indices() defined.\n",
            "predict_from_word_indices() defined.\n"
          ],
          "name": "stdout"
        }
      ]
    },
    {
      "metadata": {
        "id": "aPHgHe5ugHAR",
        "colab_type": "text"
      },
      "cell_type": "markdown",
      "source": [
        "### Predict the test data"
      ]
    },
    {
      "metadata": {
        "id": "eregRfrbJte5",
        "colab_type": "code",
        "colab": {
          "base_uri": "https://localhost:8080/",
          "height": 51
        },
        "outputId": "a345c765-a44d-4966-b79a-0d7a95149f79"
      },
      "cell_type": "code",
      "source": [
        "# Make a prediction model that accepts one word at a time. It is stateful so it remembers\n",
        "# previous inputs until explicity told to start over\n",
        "model_predict = create_model(seq_input_len=1, # Predict one word at a time\n",
        "                     n_word_input_nodes=len(index2word), \n",
        "                     n_tag_input_nodes=len(index2tag),\n",
        "                     n_word_embedding_nodes=N_WORD_EMBEDDING_NODES,\n",
        "                     n_tag_embedding_nodes=N_TAG_EMBEDDING_NODES,\n",
        "                     n_hidden_nodes=N_HIDDEN_NODES,\n",
        "                     stateful=True, batch_size=1)\n",
        "    \n",
        "# Load the model with the weights from the training model\n",
        "if FIT_MODEL == True:\n",
        "    model_predict.set_weights(model.get_weights())\n",
        "else:\n",
        "    # Not fitting, load a pre-made weight file\n",
        "    print(\"Loading weights . . .\")\n",
        "    model_predict.load_weights(os.path.join(\"Portfolio\", \"weights\", WEIGHT_FILE)) \n",
        "    print(\"Done loading weights.\")\n",
        "    \n",
        "# Update the test dataframe with the predicted tags for each sentence. Include \n",
        "# the padding characters so the tag lists for the\n",
        "# same sentence are the same length\n",
        "predictor = lambda x: [index2tag[1]] + predict_from_word_indices(x[1:-1], model_predict) + [index2tag[1]]\n",
        "predictions = []\n",
        "\n",
        "for idx in tqdm.trange(len(X_test_sentences)):\n",
        "  predictions.append(predictor(X_test_sentences['Word Indices'].iloc[idx]))\n",
        "\n",
        "#X_test_sentences['Predicted Tags'] = X_test_sentences['Word Indices'].apply(predictor)\n",
        "X_test_sentences['Predicted Tags'] = predictions"
      ],
      "execution_count": 43,
      "outputs": [
        {
          "output_type": "stream",
          "text": [
            "100%|██████████| 200/200 [03:26<00:00,  1.14it/s]\n",
            "  5%|▌         | 10/200 [00:19<07:00,  2.21s/it]"
          ],
          "name": "stderr"
        }
      ]
    },
    {
      "metadata": {
        "id": "jvGkMRhMgQyS",
        "colab_type": "text"
      },
      "cell_type": "markdown",
      "source": [
        "### Evaluate model accuracy against the held-out test data"
      ]
    },
    {
      "metadata": {
        "id": "0ZRpT6OJJte_",
        "colab_type": "code",
        "outputId": "e9f086eb-2ed3-491f-8340-cfa7fcd65be2",
        "colab": {
          "base_uri": "https://localhost:8080/",
          "height": 122
        }
      },
      "cell_type": "code",
      "source": [
        "# Build lists of predicted tags for this model\n",
        "all_true = X_test_sentences['Tags'].apply(lambda x: x[1:-1]).sum()\n",
        "all_pred = X_test_sentences['Predicted Tags'].apply(lambda x: x[1:-1]).sum()\n",
        "\n",
        "acc = accuracy_score(all_true, all_pred)\n",
        "f1 = f1_score(all_true, all_pred, average='weighted')\n",
        "print(\"Model vs. the held-out test data:\\n    Accuracy: {:.3f} \\n    Weighted F1 score: {:.3f}\". \\\n",
        "      format(acc, f1))"
      ],
      "execution_count": 44,
      "outputs": [
        {
          "output_type": "stream",
          "text": [
            "Model vs. the held-out test data:\n",
            "    Accuracy: 0.950 \n",
            "    Weighted F1 score: 0.948\n"
          ],
          "name": "stdout"
        },
        {
          "output_type": "stream",
          "text": [
            "/usr/local/lib/python3.6/dist-packages/sklearn/metrics/classification.py:1143: UndefinedMetricWarning: F-score is ill-defined and being set to 0.0 in labels with no predicted samples.\n",
            "  'precision', 'predicted', average, warn_for)\n"
          ],
          "name": "stderr"
        }
      ]
    },
    {
      "metadata": {
        "id": "xBW0rcrIJtfL",
        "colab_type": "text"
      },
      "cell_type": "markdown",
      "source": [
        "### Show Classification Report"
      ]
    },
    {
      "metadata": {
        "id": "v_OF5Ri1JtfL",
        "colab_type": "code",
        "outputId": "b465f001-b945-46bd-d5be-812fb60bae9b",
        "colab": {
          "base_uri": "https://localhost:8080/",
          "height": 462
        }
      },
      "cell_type": "code",
      "source": [
        "from sklearn.metrics import classification_report\n",
        "\n",
        "print(\"Classification report for the model:\")\n",
        "print(classification_report(all_true, all_pred))"
      ],
      "execution_count": 45,
      "outputs": [
        {
          "output_type": "stream",
          "text": [
            "Classification report for the model:\n",
            "              precision    recall  f1-score   support\n",
            "\n",
            "       B-art       0.00      0.00      0.00         3\n",
            "       B-eve       0.00      0.00      0.00         1\n",
            "       B-geo       0.84      0.83      0.84       147\n",
            "       B-gpe       0.95      0.94      0.94        80\n",
            "       B-org       0.56      0.58      0.57        77\n",
            "       B-per       0.60      0.83      0.70        66\n",
            "       B-tim       0.88      0.88      0.88        83\n",
            "       I-art       0.00      0.00      0.00         6\n",
            "       I-eve       0.00      0.00      0.00         1\n",
            "       I-geo       0.90      0.56      0.69        32\n",
            "       I-gpe       0.00      0.00      0.00         2\n",
            "       I-org       0.68      0.43      0.53        79\n",
            "       I-per       0.80      0.81      0.81        74\n",
            "       I-tim       0.92      0.50      0.65        24\n",
            "           O       0.98      0.99      0.98      3748\n",
            "\n",
            "   micro avg       0.95      0.95      0.95      4423\n",
            "   macro avg       0.54      0.49      0.51      4423\n",
            "weighted avg       0.95      0.95      0.95      4423\n",
            "\n"
          ],
          "name": "stdout"
        },
        {
          "output_type": "stream",
          "text": [
            "/usr/local/lib/python3.6/dist-packages/sklearn/metrics/classification.py:1143: UndefinedMetricWarning: Precision and F-score are ill-defined and being set to 0.0 in labels with no predicted samples.\n",
            "  'precision', 'predicted', average, warn_for)\n"
          ],
          "name": "stderr"
        }
      ]
    },
    {
      "metadata": {
        "id": "6ntsp9_cJtfQ",
        "colab_type": "text"
      },
      "cell_type": "markdown",
      "source": [
        "#### Helper Function for test data prediction\n",
        "\n",
        "This function accepts the name of a sentence in the test data and runs a prediction for it against the model and compares it to the actual label for each word."
      ]
    },
    {
      "metadata": {
        "id": "nTv3l7JLJtfR",
        "colab_type": "code",
        "colab": {}
      },
      "cell_type": "code",
      "source": [
        "def compare_pred(name):\n",
        "    \"\"\"\n",
        "    Take the name of a sentence in the test dataframe and show a comparison between\n",
        "    the actual and predicted tags for each word.\n",
        "    \"\"\"\n",
        "    actual_words = X_test_sentences.loc[name]['Words'][1:-1]\n",
        "    actual_tags = X_test_sentences.loc[name]['Tags'][1:-1]\n",
        "    pred_tags = X_test_sentences.loc[name]['Predicted Tags'][1:-1]\n",
        "    print(65 * '-')\n",
        "    print(\"Word\".ljust(14), ' ', \"Actual Tag\".ljust(12), ' ', \"Model Pred\".ljust(12))\n",
        "    print(65 * '-')\n",
        "    for i in range(len(actual_words)):\n",
        "        print(actual_words[i].ljust(14)[:14], ' ', actual_tags[i].ljust(12), ' ', pred_tags[i].ljust(12))"
      ],
      "execution_count": 0,
      "outputs": []
    },
    {
      "metadata": {
        "id": "JPZvbhbHJtfU",
        "colab_type": "text"
      },
      "cell_type": "markdown",
      "source": [
        "#### Compare some sentences from the held-out test data"
      ]
    },
    {
      "metadata": {
        "scrolled": false,
        "id": "8R05r6-_JtfV",
        "colab_type": "code",
        "outputId": "76b8910f-0091-412a-d3c5-5978c7605a4b",
        "colab": {
          "base_uri": "https://localhost:8080/",
          "height": 2142
        }
      },
      "cell_type": "code",
      "source": [
        "# Run some comparisons: Truth vs. Model\n",
        "compare_pred(X_test_sentences.index[0])\n",
        "print()\n",
        "compare_pred(X_test_sentences.index[10])\n",
        "print()\n",
        "compare_pred(X_test_sentences.index[90])\n",
        "print()\n",
        "compare_pred(X_test_sentences.index[150])"
      ],
      "execution_count": 47,
      "outputs": [
        {
          "output_type": "stream",
          "text": [
            "-----------------------------------------------------------------\n",
            "Word             Actual Tag     Model Pred  \n",
            "-----------------------------------------------------------------\n",
            "Indian           B-gpe          B-gpe       \n",
            "Prime            O              B-per       \n",
            "Minister         O              O           \n",
            "Manmohan         B-per          B-per       \n",
            "Singh            I-per          I-per       \n",
            "is               O              O           \n",
            "to               O              O           \n",
            "hold             O              O           \n",
            "talks            O              O           \n",
            "with             O              O           \n",
            "Kashmiri         B-gpe          B-gpe       \n",
            "political        O              O           \n",
            "leaders          O              O           \n",
            "on               O              O           \n",
            "Saturday         B-tim          B-tim       \n",
            "to               O              O           \n",
            "try              O              O           \n",
            "to               O              O           \n",
            "stop             O              O           \n",
            "the              O              O           \n",
            "violence         O              O           \n",
            ".                O              O           \n",
            "\n",
            "-----------------------------------------------------------------\n",
            "Word             Actual Tag     Model Pred  \n",
            "-----------------------------------------------------------------\n",
            "Pope             B-per          O           \n",
            "John             I-per          B-per       \n",
            "Paul             I-per          I-per       \n",
            "II               I-per          I-per       \n",
            "has              O              O           \n",
            "urged            O              O           \n",
            "believers        O              O           \n",
            "to               O              O           \n",
            "proudly          O              O           \n",
            "display          O              O           \n",
            "the              O              O           \n",
            "signs            O              O           \n",
            "of               O              O           \n",
            "their            O              O           \n",
            "faith            O              O           \n",
            ",                O              O           \n",
            "saying           O              O           \n",
            "the              O              O           \n",
            "practice         O              O           \n",
            "does             O              O           \n",
            "not              O              O           \n",
            "encourage        O              O           \n",
            "intolerance      O              O           \n",
            "or               O              O           \n",
            "infringe         O              O           \n",
            "on               O              O           \n",
            "the              O              O           \n",
            "separation       O              O           \n",
            "of               O              O           \n",
            "church           O              O           \n",
            "and              O              O           \n",
            "state            O              O           \n",
            ".                O              O           \n",
            "\n",
            "-----------------------------------------------------------------\n",
            "Word             Actual Tag     Model Pred  \n",
            "-----------------------------------------------------------------\n",
            "The              O              O           \n",
            "Smithsonian      B-org          O           \n",
            "Institution      I-org          O           \n",
            "has              O              O           \n",
            "decided          O              O           \n",
            "to               O              O           \n",
            "build            O              O           \n",
            "a                O              O           \n",
            "national         O              O           \n",
            "museum           O              O           \n",
            "of               O              O           \n",
            "African          B-gpe          B-gpe       \n",
            "American         I-gpe          B-org       \n",
            "history          O              O           \n",
            "on               O              O           \n",
            "the              O              O           \n",
            "National         B-org          B-org       \n",
            "Mall             I-org          I-org       \n",
            "in               O              O           \n",
            "Washington       B-geo          B-geo       \n",
            ",                O              O           \n",
            "D.C.             B-geo          B-geo       \n",
            ",                O              O           \n",
            "near             O              O           \n",
            "the              O              O           \n",
            "Washington       B-art          B-geo       \n",
            "Monument         I-art          O           \n",
            ".                O              O           \n",
            "\n",
            "-----------------------------------------------------------------\n",
            "Word             Actual Tag     Model Pred  \n",
            "-----------------------------------------------------------------\n",
            "Mussa            B-per          B-per       \n",
            "told             O              O           \n",
            "a                O              O           \n",
            "19-nation        O              O           \n",
            "bird             O              O           \n",
            "flu              O              O           \n",
            "conference       O              O           \n",
            "in               O              O           \n",
            "Malawi           B-geo          B-geo       \n",
            "Monday           B-tim          B-tim       \n",
            "that             O              O           \n",
            "the              O              O           \n",
            "lack             O              O           \n",
            "of               O              O           \n",
            "knowledge        O              O           \n",
            "among            O              O           \n",
            "health           O              O           \n",
            "officials        O              O           \n",
            "is               O              O           \n",
            "as               O              O           \n",
            "dangerous        O              O           \n",
            "as               O              O           \n",
            "the              O              O           \n",
            "lack             O              O           \n",
            "of               O              O           \n",
            "resources        O              O           \n",
            ".                O              O           \n"
          ],
          "name": "stdout"
        }
      ]
    },
    {
      "metadata": {
        "id": "KZQdBR0TJtfY",
        "colab_type": "text"
      },
      "cell_type": "markdown",
      "source": [
        "## Run with Jeopardy! Data\n",
        "\n",
        "There is a fan site for the Jeopardy television program, where volunteers transcribe each show a few days after it airs, and the game boards are reproduced on the web site http://j-acrchive.com . This was the source of novel data to feed to the prediction model to see what happens. Beatuful Soup 4 was used to scrape the clues for a game into a csv file. Each game has an ID assigned by the website and individual games can be scraped. A recent game was selected at random. \n",
        "\n",
        "#### Web page scraping code"
      ]
    },
    {
      "metadata": {
        "id": "5CCyAr4EJtfZ",
        "colab_type": "code",
        "colab": {}
      },
      "cell_type": "code",
      "source": [
        "from bs4 import BeautifulSoup\n",
        "import requests\n",
        "\n",
        "'''\n",
        "Create a csv file containing the clues for an input Jeopardy! game id, by scraping the\n",
        "fan site www.j-archive.com.\n",
        "'''\n",
        "def scrape_jeopardy_game(game_id):\n",
        "    url = r'http://j-archive.com/showgame.php?game_id={0}'.format(GAME_ID)\n",
        "\n",
        "    # Get the web page for the game\n",
        "    r  = requests.get(url)\n",
        "    data = r.text\n",
        "\n",
        "    # Make a soup object\n",
        "    soup = BeautifulSoup(data, 'html5lib')\n",
        "\n",
        "    extract = []\n",
        "    clues = soup.find_all(class_='clue_text')\n",
        "\n",
        "    for clue in clues: \n",
        "        id = clue.attrs['id']\n",
        "        id = id[5:] if id.startswith('clue_') else id\n",
        "        extract.append((GAME_ID + '_' + id, id, clue.text + '.'))\n",
        "    \n",
        "    df = pd.DataFrame(extract, columns=['id', 'clue id', 'clue'])\n",
        "    df.set_index('id', inplace=True)\n",
        "    df.to_csv(\"j-game-{}.csv\".format(GAME_ID))\n",
        "\n",
        "GAME_ID = '5949'\n",
        "\n",
        "# Either scrape a game or use one previously saved\n",
        "#scrape_jeopardy_game(GAME_ID)\n",
        "\n",
        "# Read the Jeaopardy! clues into a dataframe\n",
        "jdf = pd.read_csv(os.path.join('Portfolio', 'data', 'j-game-{}.csv'.format(GAME_ID)), index_col=0)"
      ],
      "execution_count": 0,
      "outputs": []
    },
    {
      "metadata": {
        "id": "vsXtbg7dJtfc",
        "colab_type": "code",
        "outputId": "2ab7d4b0-66e1-4838-f99b-f1162604f9b3",
        "colab": {
          "base_uri": "https://localhost:8080/",
          "height": 235
        }
      },
      "cell_type": "code",
      "source": [
        "# Display some clues from the selected Jeopardy! game\n",
        "pd.set_option('max_colwidth', int(max_sentence_length))\n",
        "pd.set_option('max_rows', jdf.shape[0])\n",
        "\n",
        "jdf[['clue']].tail()"
      ],
      "execution_count": 49,
      "outputs": [
        {
          "output_type": "execute_result",
          "data": {
            "text/html": [
              "<div>\n",
              "<style scoped>\n",
              "    .dataframe tbody tr th:only-of-type {\n",
              "        vertical-align: middle;\n",
              "    }\n",
              "\n",
              "    .dataframe tbody tr th {\n",
              "        vertical-align: top;\n",
              "    }\n",
              "\n",
              "    .dataframe thead th {\n",
              "        text-align: right;\n",
              "    }\n",
              "</style>\n",
              "<table border=\"1\" class=\"dataframe\">\n",
              "  <thead>\n",
              "    <tr style=\"text-align: right;\">\n",
              "      <th></th>\n",
              "      <th>clue</th>\n",
              "    </tr>\n",
              "    <tr>\n",
              "      <th>id</th>\n",
              "      <th></th>\n",
              "    </tr>\n",
              "  </thead>\n",
              "  <tbody>\n",
              "    <tr>\n",
              "      <th>5949_DJ_3_5</th>\n",
              "      <td>The title of this Netflix show about an early 20th c. British street gang that gets rich refers to t...</td>\n",
              "    </tr>\n",
              "    <tr>\n",
              "      <th>5949_DJ_4_5</th>\n",
              "      <td>As you can guess, the Victoria Falls Bridge over this African river has amazing views.</td>\n",
              "    </tr>\n",
              "    <tr>\n",
              "      <th>5949_DJ_5_5</th>\n",
              "      <td>This long word follows \"minister\" to designate a diplomat with full power to represent his government.</td>\n",
              "    </tr>\n",
              "    <tr>\n",
              "      <th>5949_DJ_6_5</th>\n",
              "      <td>Emflaza decreases inflammation to fight the Duchenne type of this 2-word disease.</td>\n",
              "    </tr>\n",
              "    <tr>\n",
              "      <th>5949_FJ</th>\n",
              "      <td>The father of this future composer was a French teacher at the Warsaw Lyceum, where the child would ...</td>\n",
              "    </tr>\n",
              "  </tbody>\n",
              "</table>\n",
              "</div>"
            ],
            "text/plain": [
              "                                                                                                                clue\n",
              "id                                                                                                                  \n",
              "5949_DJ_3_5  The title of this Netflix show about an early 20th c. British street gang that gets rich refers to t...\n",
              "5949_DJ_4_5                   As you can guess, the Victoria Falls Bridge over this African river has amazing views.\n",
              "5949_DJ_5_5   This long word follows \"minister\" to designate a diplomat with full power to represent his government.\n",
              "5949_DJ_6_5                        Emflaza decreases inflammation to fight the Duchenne type of this 2-word disease.\n",
              "5949_FJ      The father of this future composer was a French teacher at the Warsaw Lyceum, where the child would ..."
            ]
          },
          "metadata": {
            "tags": []
          },
          "execution_count": 49
        }
      ]
    },
    {
      "metadata": {
        "id": "t129zaz8W9JN",
        "colab_type": "text"
      },
      "cell_type": "markdown",
      "source": [
        "#### Print Prediction functions\n",
        "These are helper functions which take ordinary sentences and run them through the model. This uses the Natural Language Toolkit to parse the sentences into words."
      ]
    },
    {
      "metadata": {
        "id": "zGoRmj3QJtfg",
        "colab_type": "code",
        "outputId": "c1c3ad52-3a70-4d45-a07e-aa9b54f37bbe",
        "colab": {
          "base_uri": "https://localhost:8080/",
          "height": 51
        }
      },
      "cell_type": "code",
      "source": [
        "import nltk\n",
        "nltk.download('punkt')\n",
        "\n",
        "\"\"\"\n",
        "Take a sentence in a string, tokenize it and use the model to predict word tags. \n",
        "\"\"\"\n",
        "def predict_sentence(sentence, model=model_predict):\n",
        "    \n",
        "    # Tokenize the sentence\n",
        "    sent_tok = nltk.word_tokenize(sentence)\n",
        "    \n",
        "    # Turn into indices\n",
        "    sent_indices = [get_index_for_word(w) for w in sent_tok]\n",
        "    \n",
        "    tags = predict_from_word_indices(sent_indices, model) \n",
        "    \n",
        "    return list(zip(sent_tok, tags))\n",
        "\n",
        "'''\n",
        "Take the output of predict_sentence and print\n",
        "'''\n",
        "def print_prediction(pred_list):\n",
        "    \n",
        "    print(49 * '-')\n",
        "    print(\"Word\".ljust(14), ' ',\"Model Pred\".ljust(12))\n",
        "    print(49 * '-')\n",
        "    \n",
        "    for pred in pred_list:\n",
        "        print(pred[0].ljust(14)[:14], ' ', pred[1].ljust(12))"
      ],
      "execution_count": 50,
      "outputs": [
        {
          "output_type": "stream",
          "text": [
            "[nltk_data] Downloading package punkt to /root/nltk_data...\n",
            "[nltk_data]   Package punkt is already up-to-date!\n"
          ],
          "name": "stdout"
        }
      ]
    },
    {
      "metadata": {
        "id": "Inyh9rQ5Jtfk",
        "colab_type": "text"
      },
      "cell_type": "markdown",
      "source": [
        "#### Show predictions for some Jeopardy! clues"
      ]
    },
    {
      "metadata": {
        "scrolled": false,
        "id": "LyBsY8-ZJtfk",
        "colab_type": "code",
        "outputId": "c90494bf-7b60-4f7a-eaeb-e0db50972ff3",
        "colab": {
          "base_uri": "https://localhost:8080/",
          "height": 442
        }
      },
      "cell_type": "code",
      "source": [
        "print_prediction(predict_sentence(jdf.loc['5949_FJ'].clue))\n",
        "              "
      ],
      "execution_count": 51,
      "outputs": [
        {
          "output_type": "stream",
          "text": [
            "-------------------------------------------------\n",
            "Word             Model Pred  \n",
            "-------------------------------------------------\n",
            "The              O           \n",
            "father           O           \n",
            "of               O           \n",
            "this             O           \n",
            "future           O           \n",
            "composer         O           \n",
            "was              O           \n",
            "a                O           \n",
            "French           B-gpe       \n",
            "teacher          O           \n",
            "at               O           \n",
            "the              O           \n",
            "Warsaw           B-org       \n",
            "Lyceum           I-org       \n",
            ",                O           \n",
            "where            O           \n",
            "the              O           \n",
            "child            O           \n",
            "would            O           \n",
            "later            O           \n",
            "attend           O           \n",
            ".                O           \n"
          ],
          "name": "stdout"
        }
      ]
    },
    {
      "metadata": {
        "id": "a0Sa6q8AEc_B",
        "colab_type": "code",
        "colab": {
          "base_uri": "https://localhost:8080/",
          "height": 374
        },
        "outputId": "f5ec2cb4-a791-41ba-ceb9-14e937c24622"
      },
      "cell_type": "code",
      "source": [
        "print_prediction(predict_sentence(jdf.loc['5949_DJ_4_3'].clue))"
      ],
      "execution_count": 52,
      "outputs": [
        {
          "output_type": "stream",
          "text": [
            "-------------------------------------------------\n",
            "Word             Model Pred  \n",
            "-------------------------------------------------\n",
            "The              O           \n",
            "3                O           \n",
            "boroughs         O           \n",
            "in               O           \n",
            "New              B-geo       \n",
            "York             I-geo       \n",
            "City             I-geo       \n",
            "'s               O           \n",
            "Triborough       O           \n",
            "Bridge           O           \n",
            "are              O           \n",
            "Manhattan        B-geo       \n",
            ",                O           \n",
            "the              O           \n",
            "Bronx            O           \n",
            "&                B-org       \n",
            "this             O           \n",
            ".                O           \n"
          ],
          "name": "stdout"
        }
      ]
    },
    {
      "metadata": {
        "id": "sjspbqbVEj24",
        "colab_type": "code",
        "colab": {
          "base_uri": "https://localhost:8080/",
          "height": 357
        },
        "outputId": "dc14df68-5ad3-40ca-d002-460f7a8ab9cd"
      },
      "cell_type": "code",
      "source": [
        "print_prediction(predict_sentence(jdf.loc['5949_DJ_4_5'].clue))"
      ],
      "execution_count": 53,
      "outputs": [
        {
          "output_type": "stream",
          "text": [
            "-------------------------------------------------\n",
            "Word             Model Pred  \n",
            "-------------------------------------------------\n",
            "As               O           \n",
            "you              O           \n",
            "can              O           \n",
            "guess            O           \n",
            ",                O           \n",
            "the              O           \n",
            "Victoria         B-geo       \n",
            "Falls            O           \n",
            "Bridge           O           \n",
            "over             O           \n",
            "this             O           \n",
            "African          B-gpe       \n",
            "river            O           \n",
            "has              O           \n",
            "amazing          O           \n",
            "views            O           \n",
            ".                O           \n"
          ],
          "name": "stdout"
        }
      ]
    },
    {
      "metadata": {
        "id": "cMsBY-3GEmOB",
        "colab_type": "code",
        "colab": {
          "base_uri": "https://localhost:8080/",
          "height": 323
        },
        "outputId": "1f5aec27-43a8-43f3-c120-cbe04cd619df"
      },
      "cell_type": "code",
      "source": [
        "print_prediction(predict_sentence(jdf.loc['5949_DJ_2_2'].clue))"
      ],
      "execution_count": 54,
      "outputs": [
        {
          "output_type": "stream",
          "text": [
            "-------------------------------------------------\n",
            "Word             Model Pred  \n",
            "-------------------------------------------------\n",
            "Read             B-per       \n",
            "all              O           \n",
            "about            O           \n",
            "it               O           \n",
            "!                O           \n",
            "In               O           \n",
            "2013             B-tim       \n",
            "this             O           \n",
            "Amazon           B-tim       \n",
            "founder          O           \n",
            "bought           O           \n",
            "the              O           \n",
            "Washington       B-geo       \n",
            "Post             I-geo       \n",
            ".                O           \n"
          ],
          "name": "stdout"
        }
      ]
    },
    {
      "metadata": {
        "id": "5c4qqXVsEpfq",
        "colab_type": "code",
        "colab": {
          "base_uri": "https://localhost:8080/",
          "height": 425
        },
        "outputId": "47198ee2-d0f0-4538-e2c3-97a97ed332b9"
      },
      "cell_type": "code",
      "source": [
        "print_prediction(predict_sentence(jdf.loc['5949_DJ_1_5'].clue))"
      ],
      "execution_count": 55,
      "outputs": [
        {
          "output_type": "stream",
          "text": [
            "-------------------------------------------------\n",
            "Word             Model Pred  \n",
            "-------------------------------------------------\n",
            "Stolen           B-per       \n",
            "in               O           \n",
            "1985             B-tim       \n",
            ",                O           \n",
            "a                O           \n",
            "work             O           \n",
            "by               O           \n",
            "this             O           \n",
            "Dutch-born       B-tim       \n",
            "abstract         I-tim       \n",
            "expressionist    O           \n",
            "was              O           \n",
            "found            O           \n",
            "in               O           \n",
            "2017             O           \n",
            "in               O           \n",
            "a                O           \n",
            "New              B-geo       \n",
            "Mexico           I-geo       \n",
            "home             O           \n",
            ".                O           \n"
          ],
          "name": "stdout"
        }
      ]
    },
    {
      "metadata": {
        "id": "bTuc3Z2iHAV1",
        "colab_type": "text"
      },
      "cell_type": "markdown",
      "source": [
        "## Conclusions\n",
        "\n",
        "* The model is suseptible to over-fitting. Only a few epochs were needed to get the best results, and then performance degraded as epochs were added.\n",
        "\n",
        "* On unseen data, the model did well on data similar to the test data. \n",
        "\n",
        "* On the test data, the model did well at detecting named entities vs. non-entites, as seen by the F1 score of `O` of 0.99. It did less well at figuring out what kind of named entity it had found.\n",
        "\n",
        "* This was also seen on the Jeapardy! For example, it labeled _Washington Post_ as a geographic entity and _Triborough Bridge_ as an organization. "
      ]
    },
    {
      "metadata": {
        "id": "U1rSLVR1Jtfn",
        "colab_type": "text"
      },
      "cell_type": "markdown",
      "source": [
        "## Completely Made Up Sentences\n",
        "How will it do with Chinatown and Little Italy?"
      ]
    },
    {
      "metadata": {
        "id": "uvI9FcYYJtfo",
        "colab_type": "code",
        "outputId": "a4000152-2a35-455b-fc3e-3ec31b1b51b2",
        "colab": {
          "base_uri": "https://localhost:8080/",
          "height": 323
        }
      },
      "cell_type": "code",
      "source": [
        "print_prediction(predict_sentence(\"The Dutch previously ruled New York, which has a Chinatown near Little Italy.\"))"
      ],
      "execution_count": 56,
      "outputs": [
        {
          "output_type": "stream",
          "text": [
            "-------------------------------------------------\n",
            "Word             Model Pred  \n",
            "-------------------------------------------------\n",
            "The              O           \n",
            "Dutch            B-gpe       \n",
            "previously       O           \n",
            "ruled            O           \n",
            "New              B-org       \n",
            "York             I-org       \n",
            ",                O           \n",
            "which            O           \n",
            "has              O           \n",
            "a                O           \n",
            "Chinatown        O           \n",
            "near             O           \n",
            "Little           B-geo       \n",
            "Italy            I-geo       \n",
            ".                O           \n"
          ],
          "name": "stdout"
        }
      ]
    },
    {
      "metadata": {
        "id": "dMz4Qns8q7jl",
        "colab_type": "text"
      },
      "cell_type": "markdown",
      "source": [
        "Will starting a sentence with _New_ trip up the model? And will it recognize my cat, Esmeralda?"
      ]
    },
    {
      "metadata": {
        "id": "tMYYWq5kJtfr",
        "colab_type": "code",
        "outputId": "60c07386-3ff7-410c-b01a-93dece73f6bb",
        "colab": {
          "base_uri": "https://localhost:8080/",
          "height": 374
        }
      },
      "cell_type": "code",
      "source": [
        "print_prediction(predict_sentence(\"New to the city, Esmeralda soon discovered that a train could take her into New Jersey.\"))"
      ],
      "execution_count": 57,
      "outputs": [
        {
          "output_type": "stream",
          "text": [
            "-------------------------------------------------\n",
            "Word             Model Pred  \n",
            "-------------------------------------------------\n",
            "New              O           \n",
            "to               O           \n",
            "the              O           \n",
            "city             O           \n",
            ",                O           \n",
            "Esmeralda        B-org       \n",
            "soon             O           \n",
            "discovered       O           \n",
            "that             O           \n",
            "a                O           \n",
            "train            O           \n",
            "could            O           \n",
            "take             O           \n",
            "her              O           \n",
            "into             O           \n",
            "New              B-geo       \n",
            "Jersey           I-geo       \n",
            ".                O           \n"
          ],
          "name": "stdout"
        }
      ]
    }
  ]
}